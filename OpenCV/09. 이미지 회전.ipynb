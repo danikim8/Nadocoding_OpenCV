{
 "cells": [
  {
   "cell_type": "markdown",
   "id": "5685a652",
   "metadata": {},
   "source": [
    "# 9. 이미지 회전"
   ]
  },
  {
   "cell_type": "markdown",
   "id": "55f13968",
   "metadata": {},
   "source": [
    "## 시계 방향 90도 회전"
   ]
  },
  {
   "cell_type": "code",
   "execution_count": 2,
   "id": "59f23f57",
   "metadata": {},
   "outputs": [],
   "source": [
    "import cv2\n",
    "img = cv2.imread('img.jpg')\n",
    "\n",
    "rotate_90 = cv2.rotate(img,cv2.ROTATE_90_CLOCKWISE)#시계방향으로 90도회전\n",
    "\n",
    "cv2.imshow('img', img)\n",
    "cv2.imshow('rotate_90',rotate_90)\n",
    "cv2.waitKey(0)\n",
    "cv2.destroyAllWindows()"
   ]
  },
  {
   "cell_type": "markdown",
   "id": "657a09fd",
   "metadata": {},
   "source": [
    "## 180도 회전"
   ]
  },
  {
   "cell_type": "code",
   "execution_count": 3,
   "id": "b6472156",
   "metadata": {},
   "outputs": [],
   "source": [
    "import cv2\n",
    "img = cv2.imread('img.jpg')\n",
    "\n",
    "rotate_180 = cv2.rotate(img,cv2.ROTATE_180)#180도회전\n",
    "\n",
    "cv2.imshow('img', img)\n",
    "cv2.imshow('rotate_180',rotate_180)\n",
    "cv2.waitKey(0)\n",
    "cv2.destroyAllWindows()"
   ]
  },
  {
   "cell_type": "markdown",
   "id": "1a4f7bc4",
   "metadata": {},
   "source": [
    "## 시계 반대 방향 90도 회전(시계 방향 270도 회전)"
   ]
  },
  {
   "cell_type": "code",
   "execution_count": 4,
   "id": "0cb9fce5",
   "metadata": {},
   "outputs": [],
   "source": [
    "import cv2\n",
    "img = cv2.imread('img.jpg')\n",
    "\n",
    "rotate_270 = cv2.rotate(img,cv2.ROTATE_90_COUNTERCLOCKWISE)#시계반대방향으로 90도\n",
    "\n",
    "cv2.imshow('img', img)\n",
    "cv2.imshow('rotate_270',rotate_270)\n",
    "cv2.waitKey(0)\n",
    "cv2.destroyAllWindows()"
   ]
  }
 ],
 "metadata": {
  "kernelspec": {
   "display_name": "Python 3 (ipykernel)",
   "language": "python",
   "name": "python3"
  },
  "language_info": {
   "codemirror_mode": {
    "name": "ipython",
    "version": 3
   },
   "file_extension": ".py",
   "mimetype": "text/x-python",
   "name": "python",
   "nbconvert_exporter": "python",
   "pygments_lexer": "ipython3",
   "version": "3.11.5"
  }
 },
 "nbformat": 4,
 "nbformat_minor": 5
}
