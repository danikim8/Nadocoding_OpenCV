{
 "cells": [
  {
   "cell_type": "markdown",
   "id": "e361193a",
   "metadata": {},
   "source": [
    "# 6. 크기 조정"
   ]
  },
  {
   "cell_type": "markdown",
   "id": "17c22bdd",
   "metadata": {},
   "source": [
    "## 이미지"
   ]
  },
  {
   "cell_type": "markdown",
   "id": "10a4ee28",
   "metadata": {},
   "source": [
    "고정 크기로 설정"
   ]
  },
  {
   "cell_type": "code",
   "execution_count": 1,
   "id": "e590c014",
   "metadata": {},
   "outputs": [],
   "source": [
    "import cv2\n",
    "img = cv2.imread('img.jpg')\n",
    "dst = cv2.resize(img, (400,500))#width, height 고정 크기\n",
    "\n",
    "cv2.imshow('img', img) #원본\n",
    "cv2.imshow('resize', dst) #크기변경\n",
    "cv2.waitKey(0)\n",
    "cv2.destroyAllWindows()"
   ]
  },
  {
   "cell_type": "markdown",
   "id": "b7988828",
   "metadata": {},
   "source": [
    "비율로 설정"
   ]
  },
  {
   "cell_type": "code",
   "execution_count": 3,
   "id": "caaaf665",
   "metadata": {},
   "outputs": [],
   "source": [
    "import cv2\n",
    "img = cv2.imread('img.jpg')\n",
    "# dst = cv2.resize(img, None, fx=0.5, fy=0.5)#x,y 비율 정의(0.5 배로 축소)\n",
    "dst = cv2.resize(img, None, fx=2, fy=2)#x,y 비율 정의(2배로 키움)\n",
    "\n",
    "cv2.imshow('img', img) #원본\n",
    "cv2.imshow('resize', dst) #크기변경\n",
    "cv2.waitKey(0)\n",
    "cv2.destroyAllWindows()"
   ]
  },
  {
   "cell_type": "markdown",
   "id": "aa96a376",
   "metadata": {},
   "source": [
    "### 보간법\n",
    "1. cv2.INTER_AREA : 크기 줄일 때 사용\n",
    "1. cv2.INTER_CUBIC : 크기 늘릴 때 사용(속도 느림, 퀄리티 좋음)\n",
    "1. cv2.INTER_LINEAR : 크기 늘릴 때 사용(기본값)"
   ]
  },
  {
   "cell_type": "markdown",
   "id": "d588ed3b",
   "metadata": {},
   "source": [
    "보간법 적용하여 축소"
   ]
  },
  {
   "cell_type": "code",
   "execution_count": 4,
   "id": "433968db",
   "metadata": {},
   "outputs": [],
   "source": [
    "import cv2\n",
    "img = cv2.imread('img.jpg')\n",
    "dst = cv2.resize(img, None, fx=0.5, fy=0.5, interpolation=cv2.INTER_AREA)#x,y 비율 정의(0.5 배로 축소)\n",
    "\n",
    "cv2.imshow('img', img) #원본\n",
    "cv2.imshow('resize', dst) #크기변경\n",
    "cv2.waitKey(0)\n",
    "cv2.destroyAllWindows()"
   ]
  },
  {
   "cell_type": "markdown",
   "id": "87037dd7",
   "metadata": {},
   "source": [
    "보간법 적용하여 확대"
   ]
  },
  {
   "cell_type": "code",
   "execution_count": 5,
   "id": "f7f98ed3",
   "metadata": {},
   "outputs": [],
   "source": [
    "import cv2\n",
    "img = cv2.imread('img.jpg')\n",
    "dst = cv2.resize(img, None, fx=1.5, fy=1.5, interpolation=cv2.INTER_CUBIC)#x,y 비율 정의(1.5 배로 확대)\n",
    "\n",
    "cv2.imshow('img', img) #원본\n",
    "cv2.imshow('resize', dst) #크기변경\n",
    "cv2.waitKey(0)\n",
    "cv2.destroyAllWindows()"
   ]
  },
  {
   "cell_type": "markdown",
   "id": "38175b82",
   "metadata": {},
   "source": [
    "## 동영상"
   ]
  },
  {
   "cell_type": "markdown",
   "id": "03825413",
   "metadata": {},
   "source": [
    "고정 크기로 설정"
   ]
  },
  {
   "cell_type": "code",
   "execution_count": 7,
   "id": "dade98b5",
   "metadata": {},
   "outputs": [],
   "source": [
    "import cv2\n",
    "cap = cv2.VideoCapture('video.mp4')\n",
    "\n",
    "while cap.isOpened():\n",
    "    ret, frame = cap.read()\n",
    "    if not ret:\n",
    "        break\n",
    "    \n",
    "    frame_resized = cv2.resize(frame, (400,500)) #크기변경\n",
    "    \n",
    "    cv2.imshow('video', frame_resized)\n",
    "    if cv2.waitKey(1) == ord('q'):\n",
    "        break\n",
    "        \n",
    "cap.release()\n",
    "cv2.destroyAllWindows()"
   ]
  },
  {
   "cell_type": "markdown",
   "id": "af431e44",
   "metadata": {},
   "source": [
    "비율로 설정"
   ]
  },
  {
   "cell_type": "code",
   "execution_count": 8,
   "id": "a5680ea7",
   "metadata": {},
   "outputs": [],
   "source": [
    "import cv2\n",
    "cap = cv2.VideoCapture('video.mp4')\n",
    "\n",
    "while cap.isOpened():\n",
    "    ret, frame = cap.read()\n",
    "    if not ret:\n",
    "        break\n",
    "    \n",
    "    frame_resized = cv2.resize(frame, None, fx=1.5, fy=1.5, interpolation=cv2.INTER_CUBIC) #크기확대\n",
    "    \n",
    "    cv2.imshow('video', frame_resized)\n",
    "    if cv2.waitKey(1) == ord('q'):\n",
    "        break\n",
    "        \n",
    "cap.release()\n",
    "cv2.destroyAllWindows()"
   ]
  }
 ],
 "metadata": {
  "kernelspec": {
   "display_name": "Python 3 (ipykernel)",
   "language": "python",
   "name": "python3"
  },
  "language_info": {
   "codemirror_mode": {
    "name": "ipython",
    "version": 3
   },
   "file_extension": ".py",
   "mimetype": "text/x-python",
   "name": "python",
   "nbconvert_exporter": "python",
   "pygments_lexer": "ipython3",
   "version": "3.11.5"
  }
 },
 "nbformat": 4,
 "nbformat_minor": 5
}
