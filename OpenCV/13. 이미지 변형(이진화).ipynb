{
 "cells": [
  {
   "cell_type": "markdown",
   "id": "913b89b1",
   "metadata": {},
   "source": [
    "# 13. 이미지 변형(이진화)\n",
    "특정값을 기준으로 흰색과 검은색만으로 나누는 거예요. 흰색과 검은색만 가지는 바이너리 이미지로 바꾸는게 바로 이진화."
   ]
  },
  {
   "cell_type": "markdown",
   "id": "5ec490da",
   "metadata": {},
   "source": [
    "## Threshold\n",
    "기준, 임계값(주어진 상황에 따라 기준이 달라질 수 있는 것)"
   ]
  },
  {
   "cell_type": "code",
   "execution_count": 10,
   "id": "440cc734",
   "metadata": {},
   "outputs": [],
   "source": [
    "import cv2\n",
    "img = cv2.imread('book.jpg',cv2.IMREAD_GRAYSCALE)\n",
    "\n",
    "ret, binary = cv2.threshold(img,127, 255, cv2.THRESH_BINARY)\n",
    "\n",
    "cv2.imshow('img',img)\n",
    "cv2.imshow('binary',binary)\n",
    "cv2.waitKey(0)\n",
    "cv2.destroyAllWindows()"
   ]
  },
  {
   "cell_type": "markdown",
   "id": "6a9c2742",
   "metadata": {},
   "source": [
    "## Trackbar(값 변화에 따른 변형 확인)"
   ]
  },
  {
   "cell_type": "code",
   "execution_count": 6,
   "id": "60bb6bea",
   "metadata": {},
   "outputs": [
    {
     "ename": "error",
     "evalue": "OpenCV(4.9.0) D:\\a\\opencv-python\\opencv-python\\opencv\\modules\\highgui\\src\\window_w32.cpp:2561: error: (-27:Null pointer) NULL window: 'Trackbar' in function 'cvGetTrackbarPos'\n",
     "output_type": "error",
     "traceback": [
      "\u001b[1;31m---------------------------------------------------------------------------\u001b[0m",
      "\u001b[1;31merror\u001b[0m                                     Traceback (most recent call last)",
      "Cell \u001b[1;32mIn[6], line 16\u001b[0m\n\u001b[0;32m     13\u001b[0m \u001b[38;5;66;03m#bar이름, 창이름, 초기값, 최대값, 이벤트처리\u001b[39;00m\n\u001b[0;32m     15\u001b[0m \u001b[38;5;28;01mwhile\u001b[39;00m \u001b[38;5;28;01mTrue\u001b[39;00m:\n\u001b[1;32m---> 16\u001b[0m     thresh \u001b[38;5;241m=\u001b[39m cv2\u001b[38;5;241m.\u001b[39mgetTrackbarPos(\u001b[38;5;124m'\u001b[39m\u001b[38;5;124mthreshold\u001b[39m\u001b[38;5;124m'\u001b[39m, name) \u001b[38;5;66;03m#bar이름, 창이름\u001b[39;00m\n\u001b[0;32m     17\u001b[0m     ret, binary \u001b[38;5;241m=\u001b[39m cv2\u001b[38;5;241m.\u001b[39mthreshold(img,thresh, \u001b[38;5;241m255\u001b[39m, cv2\u001b[38;5;241m.\u001b[39mTHRESH_BINARY)\n\u001b[0;32m     19\u001b[0m     \u001b[38;5;28;01mif\u001b[39;00m \u001b[38;5;129;01mnot\u001b[39;00m ret:\n",
      "\u001b[1;31merror\u001b[0m: OpenCV(4.9.0) D:\\a\\opencv-python\\opencv-python\\opencv\\modules\\highgui\\src\\window_w32.cpp:2561: error: (-27:Null pointer) NULL window: 'Trackbar' in function 'cvGetTrackbarPos'\n"
     ]
    }
   ],
   "source": [
    "import cv2\n",
    "\n",
    "def empty(pos):\n",
    "    #print(pos)\n",
    "    pass\n",
    "\n",
    "img = cv2.imread('book.jpg',cv2.IMREAD_GRAYSCALE)\n",
    "\n",
    "name = 'Trackbar'\n",
    "cv2.namedWindow(name)\n",
    "\n",
    "cv2.createTrackbar('threshold', name, 127, 255, empty)\n",
    "#bar이름, 창이름, 초기값, 최대값, 이벤트처리\n",
    "\n",
    "while True:\n",
    "    thresh = cv2.getTrackbarPos('threshold', name) #bar이름, 창이름\n",
    "    ret, binary = cv2.threshold(img,thresh, 255, cv2.THRESH_BINARY)\n",
    "    \n",
    "    if not ret:\n",
    "        break\n",
    "    \n",
    "    cv2.imshow(name, binary)\n",
    "    if cv2.waitKey(1) == ord('q'):\n",
    "        break\n",
    "\n",
    "cv2.destroyAllWindows()"
   ]
  },
  {
   "cell_type": "markdown",
   "id": "ec636727",
   "metadata": {},
   "source": [
    "### 그림판에서 제작한 이미지로 확인"
   ]
  },
  {
   "cell_type": "code",
   "execution_count": 8,
   "id": "343d8d63",
   "metadata": {},
   "outputs": [],
   "source": [
    "import cv2\n",
    "#검은색0, 진한회색127, 밝은회색195, 흰색255\n",
    "\n",
    "def empty(pos):\n",
    "    #print(pos)\n",
    "    pass\n",
    "\n",
    "img = cv2.imread('threshold.png',cv2.IMREAD_GRAYSCALE)\n",
    "\n",
    "name = 'Trackbar'\n",
    "cv2.namedWindow(name)\n",
    "\n",
    "cv2.createTrackbar('threshold', name, 127, 255, empty)\n",
    "#bar이름, 창이름, 초기값, 최대값, 이벤트처리\n",
    "\n",
    "while True:\n",
    "    thresh = cv2.getTrackbarPos('threshold', name) #bar이름, 창이름\n",
    "    ret, binary = cv2.threshold(img,thresh, 255, cv2.THRESH_BINARY)\n",
    "    \n",
    "    if not ret:\n",
    "        break\n",
    "    \n",
    "    cv2.imshow('img', img)\n",
    "    cv2.imshow(name, binary)\n",
    "    if cv2.waitKey(1) == ord('q'):\n",
    "        break\n",
    "\n",
    "cv2.destroyAllWindows()"
   ]
  },
  {
   "cell_type": "code",
   "execution_count": null,
   "id": "ea08428c",
   "metadata": {},
   "outputs": [],
   "source": [
    "import cv2\n",
    "img = cv2.imread('threshold.png',cv2.IMREAD_GRAYSCALE)\n",
    "\n",
    "ret, binary1 = cv2.threshold(img,0, 255, cv2.THRESH_BINARY)#진한회색,밝은회색,흰색 ->흰색\n",
    "ret, binary2 = cv2.threshold(img,127, 255, cv2.THRESH_BINARY)#밝은회색,흰색 ->흰색\n",
    "ret, binary3 = cv2.threshold(img,195, 255, cv2.THRESH_BINARY)#흰색 ->흰색\n",
    "#임계값 0/127/195 초과하는 색은 모두 흰색으로 변경\n",
    "\n",
    "cv2.imshow('img',img)\n",
    "cv2.imshow('binary1',binary1)\n",
    "cv2.imshow('binary2',binary2)\n",
    "cv2.imshow('binary3',binary3)\n",
    "cv2.waitKey(0)\n",
    "cv2.destroyAllWindows()"
   ]
  },
  {
   "cell_type": "markdown",
   "id": "3cc02660",
   "metadata": {},
   "source": [
    "## Adaptive Threshold\n",
    "이미지를 작은 영역으로 나누어서 임계치 적용"
   ]
  },
  {
   "cell_type": "code",
   "execution_count": 1,
   "id": "6f8f29ec",
   "metadata": {},
   "outputs": [
    {
     "ename": "error",
     "evalue": "OpenCV(4.9.0) D:\\a\\opencv-python\\opencv-python\\opencv\\modules\\highgui\\src\\window_w32.cpp:2561: error: (-27:Null pointer) NULL window: 'Trackbar' in function 'cvGetTrackbarPos'\n",
     "output_type": "error",
     "traceback": [
      "\u001b[1;31m---------------------------------------------------------------------------\u001b[0m",
      "\u001b[1;31merror\u001b[0m                                     Traceback (most recent call last)",
      "Cell \u001b[1;32mIn[1], line 18\u001b[0m\n\u001b[0;32m     14\u001b[0m cv2\u001b[38;5;241m.\u001b[39mcreateTrackbar(\u001b[38;5;124m'\u001b[39m\u001b[38;5;124mc\u001b[39m\u001b[38;5;124m'\u001b[39m, name, \u001b[38;5;241m3\u001b[39m, \u001b[38;5;241m10\u001b[39m, empty)\u001b[38;5;66;03m#일반적으로 양수의 값을 사용\u001b[39;00m\n\u001b[0;32m     17\u001b[0m \u001b[38;5;28;01mwhile\u001b[39;00m \u001b[38;5;28;01mTrue\u001b[39;00m:\n\u001b[1;32m---> 18\u001b[0m     block_size \u001b[38;5;241m=\u001b[39m cv2\u001b[38;5;241m.\u001b[39mgetTrackbarPos(\u001b[38;5;124m'\u001b[39m\u001b[38;5;124mblock_size\u001b[39m\u001b[38;5;124m'\u001b[39m, name) \u001b[38;5;66;03m#bar이름, 창이름\u001b[39;00m\n\u001b[0;32m     19\u001b[0m     c \u001b[38;5;241m=\u001b[39m cv2\u001b[38;5;241m.\u001b[39mgetTrackbarPos(\u001b[38;5;124m'\u001b[39m\u001b[38;5;124mc\u001b[39m\u001b[38;5;124m'\u001b[39m, name) \u001b[38;5;66;03m#bar이름, 창이름\u001b[39;00m\n\u001b[0;32m     21\u001b[0m     \u001b[38;5;28;01mif\u001b[39;00m block_size \u001b[38;5;241m<\u001b[39m\u001b[38;5;241m=\u001b[39m \u001b[38;5;241m1\u001b[39m:\u001b[38;5;66;03m#1이하면 3으로\u001b[39;00m\n",
      "\u001b[1;31merror\u001b[0m: OpenCV(4.9.0) D:\\a\\opencv-python\\opencv-python\\opencv\\modules\\highgui\\src\\window_w32.cpp:2561: error: (-27:Null pointer) NULL window: 'Trackbar' in function 'cvGetTrackbarPos'\n"
     ]
    }
   ],
   "source": [
    "import cv2\n",
    "\n",
    "def empty(pos):\n",
    "    #print(pos)\n",
    "    pass\n",
    "\n",
    "img = cv2.imread('book.jpg',cv2.IMREAD_GRAYSCALE)\n",
    "\n",
    "name = 'Trackbar'\n",
    "cv2.namedWindow(name)\n",
    "\n",
    "#bar이름, 창이름, 초기값, 최대값, 이벤트처리\n",
    "cv2.createTrackbar('block_size', name, 25, 100, empty) #홀수만가능, 1보다는 큰값\n",
    "cv2.createTrackbar('c', name, 3, 10, empty)#일반적으로 양수의 값을 사용\n",
    "\n",
    "\n",
    "while True:\n",
    "    block_size = cv2.getTrackbarPos('block_size', name) #bar이름, 창이름\n",
    "    c = cv2.getTrackbarPos('c', name) #bar이름, 창이름\n",
    "    \n",
    "    if block_size <= 1:#1이하면 3으로\n",
    "        block_size =3\n",
    "        \n",
    "    if block_size%2 ==0:#짝수이면 홀수로\n",
    "        block_size +=1\n",
    "        \n",
    "    binary = cv2.adaptiveThreshold(img,255, cv2.ADAPTIVE_THRESH_MEAN_C, cv2.THRESH_BINARY, block_size,c)\n",
    "    \n",
    "    cv2.imshow(name, binary)\n",
    "    if cv2.waitKey(1) == ord('q'):\n",
    "        break\n",
    "\n",
    "cv2.destroyAllWindows()"
   ]
  },
  {
   "cell_type": "markdown",
   "id": "1430f01a",
   "metadata": {},
   "source": [
    "## 오츠 알고리즘\n",
    "Bimodal Image 에 사용하기 적합(최적의 임계값을 자동으로 찾는것)"
   ]
  },
  {
   "cell_type": "code",
   "execution_count": 2,
   "id": "cbbe7c90",
   "metadata": {},
   "outputs": [
    {
     "name": "stdout",
     "output_type": "stream",
     "text": [
      "otsu threshold -1.0\n"
     ]
    }
   ],
   "source": [
    "import cv2\n",
    "img = cv2.imread('book.jpg',cv2.IMREAD_GRAYSCALE)\n",
    "\n",
    "ret, binary = cv2.threshold(img,127, 255, cv2.THRESH_BINARY)\n",
    "ret, otsu = cv2.threshold(img,-1,127, 255, cv2.THRESH_BINARY | cv2.THRESH_OTSU)\n",
    "print('otsu threshold', ret)\n",
    "\n",
    "cv2.imshow('img',img)\n",
    "cv2.imshow('binary',binary)\n",
    "cv2.imshow('otsu', otsu)\n",
    "cv2.waitKey(0)\n",
    "cv2.destroyAllWindows()"
   ]
  }
 ],
 "metadata": {
  "kernelspec": {
   "display_name": "Python 3 (ipykernel)",
   "language": "python",
   "name": "python3"
  },
  "language_info": {
   "codemirror_mode": {
    "name": "ipython",
    "version": 3
   },
   "file_extension": ".py",
   "mimetype": "text/x-python",
   "name": "python",
   "nbconvert_exporter": "python",
   "pygments_lexer": "ipython3",
   "version": "3.11.5"
  }
 },
 "nbformat": 4,
 "nbformat_minor": 5
}
