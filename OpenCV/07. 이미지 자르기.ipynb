{
 "cells": [
  {
   "cell_type": "markdown",
   "id": "dda1529d",
   "metadata": {},
   "source": [
    "# 7. 이미지 자르기"
   ]
  },
  {
   "cell_type": "markdown",
   "id": "a1d3af29",
   "metadata": {},
   "source": [
    "영역을 잘라서 새로운 윈도우(창)에 표시"
   ]
  },
  {
   "cell_type": "code",
   "execution_count": 4,
   "id": "a25ac4a5",
   "metadata": {},
   "outputs": [],
   "source": [
    "import cv2\n",
    "img = cv2.imread('img.jpg')\n",
    "#img.shape #(427, 640, 3)\n",
    "\n",
    "crop = img[100:200, 200:400] #세로기준100:200까지, 가로기준200:400까지 자름\n",
    "\n",
    "cv2.imshow('img', img)#원본이미지\n",
    "cv2.imshow('crop',crop)#잘린이미지\n",
    "cv2.waitKey(0)\n",
    "cv2.destroyAllWindows()"
   ]
  },
  {
   "cell_type": "markdown",
   "id": "9aa6be22",
   "metadata": {},
   "source": [
    "영역을 잘라서 기존 윈도우에 표시"
   ]
  },
  {
   "cell_type": "code",
   "execution_count": 5,
   "id": "2e934037",
   "metadata": {},
   "outputs": [],
   "source": [
    "import cv2\n",
    "img = cv2.imread('img.jpg')\n",
    "\n",
    "crop = img[100:200, 200:400] #세로기준100:200까지, 가로기준200:400까지 자름\n",
    "img[100:200, 400:600] = crop #이부분을 크롭으로 대체해서 삽입\n",
    "\n",
    "cv2.imshow('img', img)#원본이미지\n",
    "cv2.waitKey(0)\n",
    "cv2.destroyAllWindows()"
   ]
  }
 ],
 "metadata": {
  "kernelspec": {
   "display_name": "Python 3 (ipykernel)",
   "language": "python",
   "name": "python3"
  },
  "language_info": {
   "codemirror_mode": {
    "name": "ipython",
    "version": 3
   },
   "file_extension": ".py",
   "mimetype": "text/x-python",
   "name": "python",
   "nbconvert_exporter": "python",
   "pygments_lexer": "ipython3",
   "version": "3.11.5"
  }
 },
 "nbformat": 4,
 "nbformat_minor": 5
}
